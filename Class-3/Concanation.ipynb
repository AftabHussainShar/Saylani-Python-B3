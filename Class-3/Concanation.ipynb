{
 "cells": [
  {
   "cell_type": "markdown",
   "metadata": {},
   "source": [
    "### Concanataion Methods"
   ]
  },
  {
   "cell_type": "code",
   "execution_count": 2,
   "metadata": {},
   "outputs": [],
   "source": [
    "# Method 2\n",
    "f_name = \"Aftab\"\n",
    "l_name = \"Hussain\""
   ]
  },
  {
   "cell_type": "code",
   "execution_count": 3,
   "metadata": {},
   "outputs": [
    {
     "name": "stdout",
     "output_type": "stream",
     "text": [
      "The Saylani have only one student who already know the Pyhton Aftab Hussain\n"
     ]
    }
   ],
   "source": [
    "print(f'The Saylani have only one student who already know the Pyhton {f_name} {l_name}')"
   ]
  },
  {
   "cell_type": "code",
   "execution_count": 7,
   "metadata": {},
   "outputs": [
    {
     "data": {
      "text/plain": [
       "'The Saylani have only one student who already know the Pyhton Aftab Hussain'"
      ]
     },
     "execution_count": 7,
     "metadata": {},
     "output_type": "execute_result"
    }
   ],
   "source": [
    "# Method-3 ,format() takes variables acording to that he print indexing value\n",
    "\"The Saylani have only one student who already know the Pyhton {0} {1}\".format(f_name,l_name)"
   ]
  },
  {
   "cell_type": "markdown",
   "metadata": {},
   "source": [
    "### Conditional Statements"
   ]
  },
  {
   "cell_type": "markdown",
   "metadata": {},
   "source": [
    "- If\n",
    "- ElIf\n",
    "- Else"
   ]
  },
  {
   "cell_type": "code",
   "execution_count": 13,
   "metadata": {},
   "outputs": [
    {
     "name": "stdout",
     "output_type": "stream",
     "text": [
      "Match  win\n",
      "Pakistan will be celerbrate\n"
     ]
    }
   ],
   "source": [
    "# If and else\n",
    "result = 'win'  #win/loss/tie\n",
    "if(result=='win'):\n",
    "    print('Match ',result)\n",
    "    \n",
    "if(result=='win'):\n",
    "    print(f'Pakistan will be celerbrate')\n",
    "    \n",
    "else:\n",
    "    print(f'Pakistan will be critisize')"
   ]
  },
  {
   "cell_type": "markdown",
   "metadata": {},
   "source": [
    "##### Syntax  </br>\n",
    "If `<condition>`: </br>\n",
    "&nbsp;&nbsp;&nbsp;&nbsp;&nbsp;&nbsp;&nbsp;&nbsp;    `<statement body>` </br>\n",
    "\n",
    "Else:</br>\n",
    "&nbsp;&nbsp;&nbsp;&nbsp;&nbsp;&nbsp;&nbsp;&nbsp;    `<statement body>`\n"
   ]
  },
  {
   "cell_type": "code",
   "execution_count": 15,
   "metadata": {},
   "outputs": [
    {
     "name": "stdout",
     "output_type": "stream",
     "text": [
      "you are login now\n"
     ]
    }
   ],
   "source": [
    "name = 'Aftab'\n",
    "password ='123'\n",
    "\n",
    "if(name =='Aftab' and password=='123'):\n",
    "    print(f'you are login now')\n",
    "elif(name !=name and password !='123'):\n",
    "    print(f'Wrong password')\n",
    "elif(name !=name and password !='123'):\n",
    "    print(f'Wrong password')"
   ]
  },
  {
   "cell_type": "code",
   "execution_count": 20,
   "metadata": {},
   "outputs": [
    {
     "name": "stdout",
     "output_type": "stream",
     "text": [
      "empty\n"
     ]
    }
   ],
   "source": [
    "v = ''\n",
    "if(v =='toyota'):\n",
    "    print(f'the car is {v}')\n",
    "elif(v =='corola'):\n",
    "    print(f'the car is {v}')\n",
    "elif(v =='suzuki'):\n",
    "    print(f'the car is {v}')\n",
    "elif(v =='alto'):\n",
    "    print(f'the car is {v}')\n",
    "    \n",
    "else:\n",
    "    print(f'empty')"
   ]
  },
  {
   "cell_type": "code",
   "execution_count": 29,
   "metadata": {},
   "outputs": [
    {
     "name": "stdout",
     "output_type": "stream",
     "text": [
      "Fail\n"
     ]
    }
   ],
   "source": [
    "marks = int(input('Eenter your marks : '))\n",
    "if(marks >= 90):\n",
    "    print('A Grade')\n",
    "elif(marks >=80):\n",
    "    print('B Grade')\n",
    "elif(marks>=70):\n",
    "    print('C Grade')\n",
    "elif(marks>=60):\n",
    "    print('D Grade')\n",
    "else:\n",
    "    print('Fail')"
   ]
  },
  {
   "cell_type": "code",
   "execution_count": 27,
   "metadata": {},
   "outputs": [
    {
     "name": "stdout",
     "output_type": "stream",
     "text": [
      "A Grade\n"
     ]
    }
   ],
   "source": [
    "marks = 90\n",
    "if(marks >= 90):\n",
    "    print('A Grade')\n",
    "elif(marks >=80):\n",
    "    print('B Grade')\n",
    "elif(marks>=70):\n",
    "    print('C Grade')\n",
    "elif(marks>=60):\n",
    "    print('D Grade')\n",
    "else:\n",
    "    print('Fail')\n",
    "        "
   ]
  },
  {
   "cell_type": "code",
   "execution_count": 25,
   "metadata": {},
   "outputs": [
    {
     "name": "stdout",
     "output_type": "stream",
     "text": [
      "zamir is good in front end developement\n"
     ]
    }
   ],
   "source": [
    "z = 'zamir'\n",
    "if(z=='aftab'):\n",
    "    print(f'{z} is good in AI Python')\n",
    "elif(z=='zamir'):\n",
    "    print(f'{z} is good in front end developement')\n",
    "else:\n",
    "    print(f'{z} is leave study')"
   ]
  },
  {
   "cell_type": "markdown",
   "metadata": {},
   "source": [
    "#### Not Equal "
   ]
  },
  {
   "cell_type": "code",
   "execution_count": null,
   "metadata": {},
   "outputs": [],
   "source": []
  },
  {
   "cell_type": "markdown",
   "metadata": {},
   "source": [
    "### Comparision Operators"
   ]
  },
  {
   "cell_type": "code",
   "execution_count": 30,
   "metadata": {},
   "outputs": [
    {
     "data": {
      "text/plain": [
       "True"
      ]
     },
     "execution_count": 30,
     "metadata": {},
     "output_type": "execute_result"
    }
   ],
   "source": [
    "90 == 90  # Equal Operator"
   ]
  },
  {
   "cell_type": "code",
   "execution_count": 31,
   "metadata": {},
   "outputs": [
    {
     "data": {
      "text/plain": [
       "True"
      ]
     },
     "execution_count": 31,
     "metadata": {},
     "output_type": "execute_result"
    }
   ],
   "source": [
    "90 != 89 # This is Not Equal Operator"
   ]
  },
  {
   "cell_type": "code",
   "execution_count": 32,
   "metadata": {},
   "outputs": [
    {
     "data": {
      "text/plain": [
       "True"
      ]
     },
     "execution_count": 32,
     "metadata": {},
     "output_type": "execute_result"
    }
   ],
   "source": [
    "80 > 70 # This is Greater Then operator"
   ]
  },
  {
   "cell_type": "code",
   "execution_count": null,
   "metadata": {},
   "outputs": [],
   "source": [
    "80 < 90 # This is Less then operator"
   ]
  },
  {
   "cell_type": "code",
   "execution_count": 36,
   "metadata": {},
   "outputs": [],
   "source": [
    "all_available = True\n",
    "is_fresh = True\n",
    "price = \"Average\"\n"
   ]
  },
  {
   "cell_type": "code",
   "execution_count": 37,
   "metadata": {},
   "outputs": [],
   "source": [
    "score = 0\n",
    "if all_available:\n",
    "    score += 5\n",
    "if is_fresh:\n",
    "    score += 10\n",
    "if price == 'Average':\n",
    "    score += 70\n",
    "    "
   ]
  },
  {
   "cell_type": "code",
   "execution_count": 40,
   "metadata": {},
   "outputs": [
    {
     "name": "stdout",
     "output_type": "stream",
     "text": [
      "15\n"
     ]
    }
   ],
   "source": [
    "all_available = True\n",
    "is_fresh = True\n",
    "price = \"Average\"\n",
    "\n",
    "score = 0\n",
    "if all_available:\n",
    "    score += 5\n",
    "if is_fresh:\n",
    "    score += 5\n",
    "if price == 'Average':\n",
    "    score += 5\n",
    "print(score)"
   ]
  },
  {
   "cell_type": "markdown",
   "metadata": {},
   "source": [
    "### AND => AND ALL CONDITION ARE TRE\n",
    "### OR => OR CONDITION MUST BE TRUE\n",
    "#### \n",
    "\n",
    "NOT \n",
    "1 --> 1\n",
    "1 --> 0\n",
    "\n",
    "\n",
    "\n",
    "A B AND # THIS IF FOR AND OPERTOR USED FOR SELECT BOTH \n",
    "0 0\n",
    "1 0 \n",
    "0 1\n",
    "1 1 \n"
   ]
  },
  {
   "cell_type": "code",
   "execution_count": null,
   "metadata": {},
   "outputs": [],
   "source": [
    "Percentage_inter = ''\n",
    "Age_limit = ''\n",
    "\n",
    "if (Percentage_inter > 60) and (Age_limit >=18):\n",
    "    print(f'You are eligible to take admission in University.')\n"
   ]
  }
 ],
 "metadata": {
  "kernelspec": {
   "display_name": "Python 3",
   "language": "python",
   "name": "python3"
  },
  "language_info": {
   "codemirror_mode": {
    "name": "ipython",
    "version": 3
   },
   "file_extension": ".py",
   "mimetype": "text/x-python",
   "name": "python",
   "nbconvert_exporter": "python",
   "pygments_lexer": "ipython3",
   "version": "3.12.1"
  }
 },
 "nbformat": 4,
 "nbformat_minor": 2
}
