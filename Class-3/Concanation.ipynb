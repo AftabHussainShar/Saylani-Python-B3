{
 "cells": [
  {
   "cell_type": "markdown",
   "metadata": {},
   "source": [
    "### Concanataion Methods"
   ]
  },
  {
   "cell_type": "code",
   "execution_count": 2,
   "metadata": {},
   "outputs": [],
   "source": [
    "# Method 2\n",
    "f_name = \"Aftab\"\n",
    "l_name = \"Hussain\""
   ]
  },
  {
   "cell_type": "code",
   "execution_count": 3,
   "metadata": {},
   "outputs": [
    {
     "name": "stdout",
     "output_type": "stream",
     "text": [
      "The Saylani have only one student who already know the Pyhton Aftab Hussain\n"
     ]
    }
   ],
   "source": [
    "print(f'The Saylani have only one student who already know the Pyhton {f_name} {l_name}')"
   ]
  },
  {
   "cell_type": "code",
   "execution_count": 7,
   "metadata": {},
   "outputs": [
    {
     "data": {
      "text/plain": [
       "'The Saylani have only one student who already know the Pyhton Aftab Hussain'"
      ]
     },
     "execution_count": 7,
     "metadata": {},
     "output_type": "execute_result"
    }
   ],
   "source": [
    "# Method-3 ,format() takes variables acording to that he print indexing value\n",
    "\"The Saylani have only one student who already know the Pyhton {0} {1}\".format(f_name,l_name)"
   ]
  },
  {
   "cell_type": "markdown",
   "metadata": {},
   "source": [
    "### Conditional Statements"
   ]
  },
  {
   "cell_type": "markdown",
   "metadata": {},
   "source": [
    "- If\n",
    "- ElseIf\n",
    "- Else"
   ]
  },
  {
   "cell_type": "code",
   "execution_count": 13,
   "metadata": {},
   "outputs": [
    {
     "name": "stdout",
     "output_type": "stream",
     "text": [
      "Match  win\n",
      "Pakistan will be celerbrate\n"
     ]
    }
   ],
   "source": [
    "# If and else\n",
    "result = 'win'  #win/loss/tie\n",
    "if(result=='win'):\n",
    "    print('Match ',result)\n",
    "    \n",
    "if(result=='win'):\n",
    "    print(f'Pakistan will be celerbrate')\n",
    "    \n",
    "else:\n",
    "    print(f'Pakistan will be critisize')"
   ]
  },
  {
   "cell_type": "markdown",
   "metadata": {},
   "source": [
    "if<conditon>:\n",
    "    <statement body>\n",
    "else:\n",
    "    <statement body>"
   ]
  }
 ],
 "metadata": {
  "kernelspec": {
   "display_name": "Python 3",
   "language": "python",
   "name": "python3"
  },
  "language_info": {
   "codemirror_mode": {
    "name": "ipython",
    "version": 3
   },
   "file_extension": ".py",
   "mimetype": "text/x-python",
   "name": "python",
   "nbconvert_exporter": "python",
   "pygments_lexer": "ipython3",
   "version": "3.12.1"
  }
 },
 "nbformat": 4,
 "nbformat_minor": 2
}
