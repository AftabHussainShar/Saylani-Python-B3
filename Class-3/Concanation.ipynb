{
 "cells": [
  {
   "cell_type": "markdown",
   "metadata": {},
   "source": [
    "### Concanataion Methods"
   ]
  },
  {
   "cell_type": "code",
   "execution_count": 2,
   "metadata": {},
   "outputs": [],
   "source": [
    "# Method 2\n",
    "f_name = \"Aftab\"\n",
    "l_name = \"Hussain\""
   ]
  },
  {
   "cell_type": "code",
   "execution_count": 3,
   "metadata": {},
   "outputs": [
    {
     "name": "stdout",
     "output_type": "stream",
     "text": [
      "The Saylani have only one student who already know the Pyhton Aftab Hussain\n"
     ]
    }
   ],
   "source": [
    "print(f'The Saylani have only one student who already know the Pyhton {f_name} {l_name}')"
   ]
  },
  {
   "cell_type": "code",
   "execution_count": 7,
   "metadata": {},
   "outputs": [
    {
     "data": {
      "text/plain": [
       "'The Saylani have only one student who already know the Pyhton Aftab Hussain'"
      ]
     },
     "execution_count": 7,
     "metadata": {},
     "output_type": "execute_result"
    }
   ],
   "source": [
    "# Method-3 ,format() takes variables acording to that he print indexing value\n",
    "\"The Saylani have only one student who already know the Pyhton {0} {1}\".format(f_name,l_name)"
   ]
  },
  {
   "cell_type": "markdown",
   "metadata": {},
   "source": [
    "### Conditional Statements"
   ]
  },
  {
   "cell_type": "markdown",
   "metadata": {},
   "source": [
    "- If\n",
    "- ElIf\n",
    "- Else"
   ]
  },
  {
   "cell_type": "code",
   "execution_count": 13,
   "metadata": {},
   "outputs": [
    {
     "name": "stdout",
     "output_type": "stream",
     "text": [
      "Match  win\n",
      "Pakistan will be celerbrate\n"
     ]
    }
   ],
   "source": [
    "# If and else\n",
    "result = 'win'  #win/loss/tie\n",
    "if(result=='win'):\n",
    "    print('Match ',result)\n",
    "    \n",
    "if(result=='win'):\n",
    "    print(f'Pakistan will be celerbrate')\n",
    "    \n",
    "else:\n",
    "    print(f'Pakistan will be critisize')"
   ]
  },
  {
   "cell_type": "markdown",
   "metadata": {},
   "source": [
    "##### Syntax  </br>\n",
    "If `<condition>`: </br>\n",
    "&nbsp;&nbsp;&nbsp;&nbsp;&nbsp;&nbsp;&nbsp;&nbsp;    `<statement body>` </br>\n",
    "\n",
    "Else:</br>\n",
    "&nbsp;&nbsp;&nbsp;&nbsp;&nbsp;&nbsp;&nbsp;&nbsp;    `<statement body>`\n"
   ]
  },
  {
   "cell_type": "code",
   "execution_count": 15,
   "metadata": {},
   "outputs": [
    {
     "name": "stdout",
     "output_type": "stream",
     "text": [
      "you are login now\n"
     ]
    }
   ],
   "source": [
    "name = 'Aftab'\n",
    "password ='123'\n",
    "\n",
    "if(name =='Aftab' and password=='123'):\n",
    "    print(f'you are login now')\n",
    "elif(name !=name and password !='123'):\n",
    "    print(f'Wrong password')\n",
    "elif(name !=name and password !='123'):\n",
    "    print(f'Wrong password')"
   ]
  },
  {
   "cell_type": "code",
   "execution_count": 20,
   "metadata": {},
   "outputs": [
    {
     "name": "stdout",
     "output_type": "stream",
     "text": [
      "empty\n"
     ]
    }
   ],
   "source": [
    "v = ''\n",
    "if(v =='toyota'):\n",
    "    print(f'the car is {v}')\n",
    "elif(v =='corola'):\n",
    "    print(f'the car is {v}')\n",
    "elif(v =='suzuki'):\n",
    "    print(f'the car is {v}')\n",
    "elif(v =='alto'):\n",
    "    print(f'the car is {v}')\n",
    "    \n",
    "else:\n",
    "    print(f'empty')"
   ]
  },
  {
   "cell_type": "code",
   "execution_count": 26,
   "metadata": {},
   "outputs": [
    {
     "name": "stdout",
     "output_type": "stream",
     "text": [
      "A Grade\n"
     ]
    }
   ],
   "source": [
    "marks = 90\n",
    "if(marks >= 90):\n",
    "    print('A Grade')\n",
    "elif(marks >=80):\n",
    "    print('B Grade')\n",
    "elif(marks>=70):\n",
    "    print('C Grade')\n",
    "elif(marks>=60):\n",
    "    print('D Grade')\n",
    "else:\n",
    "    print('Fail')\n",
    "        "
   ]
  },
  {
   "cell_type": "code",
   "execution_count": 25,
   "metadata": {},
   "outputs": [
    {
     "name": "stdout",
     "output_type": "stream",
     "text": [
      "zamir is good in front end developement\n"
     ]
    }
   ],
   "source": [
    "z = 'zamir'\n",
    "if(z=='aftab'):\n",
    "    print(f'{z} is good in AI Python')\n",
    "elif(z=='zamir'):\n",
    "    print(f'{z} is good in front end developement')\n",
    "else:\n",
    "    print(f'{z} is leave study')"
   ]
  }
 ],
 "metadata": {
  "kernelspec": {
   "display_name": "Python 3",
   "language": "python",
   "name": "python3"
  },
  "language_info": {
   "codemirror_mode": {
    "name": "ipython",
    "version": 3
   },
   "file_extension": ".py",
   "mimetype": "text/x-python",
   "name": "python",
   "nbconvert_exporter": "python",
   "pygments_lexer": "ipython3",
   "version": "3.12.1"
  }
 },
 "nbformat": 4,
 "nbformat_minor": 2
}
