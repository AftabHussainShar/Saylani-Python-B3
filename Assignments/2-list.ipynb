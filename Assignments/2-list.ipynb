{
 "cells": [
  {
   "cell_type": "markdown",
   "metadata": {},
   "source": [
    "1. Write a program that accepts a list from user and print the alternate element of list. \n"
   ]
  },
  {
   "cell_type": "code",
   "execution_count": 1,
   "metadata": {},
   "outputs": [
    {
     "name": "stdout",
     "output_type": "stream",
     "text": [
      "Alternate elements of the list are:\n",
      "12\n",
      "34\n"
     ]
    }
   ],
   "source": [
    "def print_alternate_elements(input_list):\n",
    "    for i in range(0, len(input_list), 2):\n",
    "        print(input_list[i])\n",
    "\n",
    "def main():\n",
    "    user_input = input(\"Enter a list of elements separated by commas: \")\n",
    "    element_list = [element.strip() for element in user_input.split(',')]\n",
    "    print(\"Alternate elements of the list are:\")\n",
    "    print_alternate_elements(element_list)\n",
    "\n",
    "main()"
   ]
  },
  {
   "cell_type": "markdown",
   "metadata": {},
   "source": [
    "2. Write a program that accepts a list from user. Your program should reverse the content of list and\n",
    "display it. Do not use reverse() method. \n"
   ]
  },
  {
   "cell_type": "code",
   "execution_count": 2,
   "metadata": {},
   "outputs": [
    {
     "name": "stdout",
     "output_type": "stream",
     "text": [
      "Reversed list is:\n",
      "['jawad', 'zamir', 'aftab']\n"
     ]
    }
   ],
   "source": [
    "def reverse_list(input_list):\n",
    "    reversed_list = input_list[::-1]\n",
    "    return reversed_list\n",
    "\n",
    "def main():\n",
    "    user_input = input(\"Enter a list of elements separated by commas: \")\n",
    "    element_list = [element.strip() for element in user_input.split(',')]\n",
    "    reversed_list = reverse_list(element_list)\n",
    "    print(\"Reversed list is:\")\n",
    "    print(reversed_list)\n",
    "\n",
    "main()"
   ]
  },
  {
   "cell_type": "markdown",
   "metadata": {},
   "source": [
    "3. Find and display the largest number of a list without using built-in function max(). Your program\n",
    "should ask the user to input values in list from keyboard. \n"
   ]
  },
  {
   "cell_type": "code",
   "execution_count": 3,
   "metadata": {},
   "outputs": [
    {
     "name": "stdout",
     "output_type": "stream",
     "text": [
      "The largest number in the list is: 100.0\n"
     ]
    }
   ],
   "source": [
    "def find_largest_number(input_list):\n",
    "    if not input_list: \n",
    "        return None\n",
    "    largest = input_list[0]\n",
    "    for number in input_list:\n",
    "        if number > largest:\n",
    "            largest = number\n",
    "\n",
    "    return largest\n",
    "\n",
    "def main():\n",
    "    user_input = input(\"Enter numbers separated by commas: \")\n",
    "    try:\n",
    "        number_list = [float(item.strip()) for item in user_input.split(',')]\n",
    "    except ValueError:\n",
    "        print(\"Invalid input. Please enter only numbers.\")\n",
    "        return\n",
    "    largest_number = find_largest_number(number_list)\n",
    "    if largest_number is not None:\n",
    "        print(f\"The largest number in the list is: {largest_number}\")\n",
    "    else:\n",
    "        print(\"The list is empty.\")\n",
    "\n",
    "main()"
   ]
  },
  {
   "cell_type": "markdown",
   "metadata": {},
   "source": [
    " 4. Write a program that rotates the element of a list so that the element at the first index moves to the\n",
    "second index, the element in the second index moves to the third index, etc., and the element in the last\n",
    "index moves to the first index. "
   ]
  },
  {
   "cell_type": "code",
   "execution_count": 4,
   "metadata": {},
   "outputs": [
    {
     "name": "stdout",
     "output_type": "stream",
     "text": [
      "Rotated list is:\n",
      "['d', 'a', 'b', 'c']\n"
     ]
    }
   ],
   "source": [
    "def rotate_list(input_list):\n",
    "    if len(input_list) <= 1:\n",
    "        return input_list\n",
    "    last_element = input_list[-1]\n",
    "    for i in range(len(input_list) - 1, 0, -1):\n",
    "        input_list[i] = input_list[i - 1]\n",
    "    input_list[0] = last_element\n",
    "    \n",
    "    return input_list\n",
    "\n",
    "def main():\n",
    "    user_input = input(\"Enter a list of elements separated by commas: \")\n",
    "    element_list = [element.strip() for element in user_input.split(',')]\n",
    "    rotated_list = rotate_list(element_list)\n",
    "    print(\"Rotated list is:\")\n",
    "    print(rotated_list)\n",
    "\n",
    "main()"
   ]
  },
  {
   "cell_type": "markdown",
   "metadata": {},
   "source": [
    "5. Write a program that input a string and ask user to delete a given word from a string. \n"
   ]
  },
  {
   "cell_type": "code",
   "execution_count": 7,
   "metadata": {},
   "outputs": [
    {
     "name": "stdout",
     "output_type": "stream",
     "text": [
      "String after removing the word:\n",
      "Aftab hussain\n"
     ]
    }
   ],
   "source": [
    "def remove_word_from_string(input_string, word_to_remove):\n",
    "    words = input_string.split()\n",
    "    filtered_words = [word for word in words if word != word_to_remove]\n",
    "    result_string = ' '.join(filtered_words)\n",
    "    return result_string\n",
    "\n",
    "def main():\n",
    "    input_string = input(\"Enter a string: \")\n",
    "    word_to_remove = input(\"Enter the word to delete from the string: \")\n",
    "    result_string = remove_word_from_string(input_string, word_to_remove)\n",
    "    print(\"String after removing the word:\")\n",
    "    print(result_string)\n",
    "\n",
    "main()"
   ]
  },
  {
   "cell_type": "markdown",
   "metadata": {},
   "source": [
    " 6. Write a program that reads a string from the user containing a date in the form mm/dd/yyyy. It\n",
    "should print the date in the form March 12, 2021. "
   ]
  },
  {
   "cell_type": "code",
   "execution_count": 8,
   "metadata": {},
   "outputs": [
    {
     "name": "stdout",
     "output_type": "stream",
     "text": [
      "Formatted date: December 31, 2022\n"
     ]
    }
   ],
   "source": [
    "from datetime import datetime\n",
    "\n",
    "def convert_date_format(date_str):\n",
    "    try:\n",
    "        date_object = datetime.strptime(date_str, '%m/%d/%Y')\n",
    "        formatted_date = date_object.strftime('%B %d, %Y')\n",
    "        return formatted_date\n",
    "    except ValueError:\n",
    "        return \"Invalid date format. Please enter the date in mm/dd/yyyy format.\"\n",
    "\n",
    "def main():\n",
    "    date_input = input(\"Enter a date in mm/dd/yyyy format: \")\n",
    "    result = convert_date_format(date_input)\n",
    "    print(\"Formatted date:\", result)\n",
    "\n",
    "main()"
   ]
  },
  {
   "cell_type": "markdown",
   "metadata": {},
   "source": [
    " 7. Write a program with a function that accepts a string from keyboard and create a new string after\n",
    "converting character of each word capitalized. For instance, if the sentence is \"stop and smell the roses.\"\n",
    "the output should be \"Stop And Smell The Roses\" "
   ]
  },
  {
   "cell_type": "code",
   "execution_count": 9,
   "metadata": {},
   "outputs": [
    {
     "name": "stdout",
     "output_type": "stream",
     "text": [
      "Capitalized sentence:\n",
      "Aftab Husasin\n"
     ]
    }
   ],
   "source": [
    "def capitalize_words(input_string):\n",
    "    words = input_string.split()\n",
    "    capitalized_words = [word.capitalize() for word in words]\n",
    "    result_string = ' '.join(capitalized_words)\n",
    "    \n",
    "    return result_string\n",
    "\n",
    "def main():\n",
    "    user_input = input(\"Enter a sentence: \")\n",
    "    result = capitalize_words(user_input)\n",
    "    print(\"Capitalized sentence:\")\n",
    "    print(result)\n",
    "\n",
    "main()"
   ]
  },
  {
   "cell_type": "markdown",
   "metadata": {},
   "source": [
    "8. Find the sum of each row of matrix of size m x n. For example for the following matrix output will be\n",
    "like this : \n"
   ]
  },
  {
   "cell_type": "code",
   "execution_count": 13,
   "metadata": {},
   "outputs": [
    {
     "name": "stdout",
     "output_type": "stream",
     "text": [
      "Enter the elements of the matrix row by row:\n",
      "Invalid input: Expected 4 elements, but got 1.. Please enter exactly 4 integers separated by spaces.\n",
      "Invalid input: Expected 4 elements, but got 1.. Please enter exactly 4 integers separated by spaces.\n",
      "Invalid input: invalid literal for int() with base 10: '12,34,56,34'. Please enter exactly 4 integers separated by spaces.\n",
      "Sum of each row:\n",
      "Sum of row 1 = 64\n",
      "Sum of row 2 = 41\n",
      "Sum of row 3 = 21\n",
      "Sum of row 4 = 182\n"
     ]
    }
   ],
   "source": [
    "def sum_of_rows(matrix):\n",
    "    row_sums = [sum(row) for row in matrix]\n",
    "    return row_sums\n",
    "\n",
    "def main():\n",
    "    while True:\n",
    "        try:\n",
    "            m = int(input(\"Enter the number of rows (m): \"))\n",
    "            n = int(input(\"Enter the number of columns (n): \"))\n",
    "            if m <= 0 or n <= 0:\n",
    "                raise ValueError(\"Number of rows and columns must be positive integers.\")\n",
    "            break\n",
    "        except ValueError as ve:\n",
    "            print(f\"Invalid input: {ve}. Please enter valid integers.\")\n",
    "    matrix = []\n",
    "    print(\"Enter the elements of the matrix row by row:\")\n",
    "    \n",
    "    for i in range(m):\n",
    "        while True:\n",
    "            try:\n",
    "                row = list(map(int, input(f\"Enter row {i + 1} elements separated by spaces: \").split()))\n",
    "                if len(row) != n:\n",
    "                    raise ValueError(f\"Expected {n} elements, but got {len(row)}.\")\n",
    "                matrix.append(row)\n",
    "                break\n",
    "            except ValueError as ve:\n",
    "                print(f\"Invalid input: {ve}. Please enter exactly {n} integers separated by spaces.\")\n",
    "    row_sums = sum_of_rows(matrix)\n",
    "    print(\"Sum of each row:\")\n",
    "    for i, row_sum in enumerate(row_sums, 1):\n",
    "        print(f\"Sum of row {i} = {row_sum}\")\n",
    "\n",
    "main()"
   ]
  },
  {
   "cell_type": "markdown",
   "metadata": {},
   "source": [
    "9. Write a program to add two matrices of size n x m. "
   ]
  },
  {
   "cell_type": "code",
   "execution_count": 14,
   "metadata": {},
   "outputs": [
    {
     "name": "stdout",
     "output_type": "stream",
     "text": [
      "Input first matrix:\n",
      "Enter the elements of the matrix (2 x 2):\n",
      "Invalid input: Expected 2 elements, but got 3.. Please enter exactly 2 integers separated by spaces.\n",
      "Invalid input: Expected 2 elements, but got 4.. Please enter exactly 2 integers separated by spaces.\n",
      "Input second matrix:\n",
      "Enter the elements of the matrix (2 x 2):\n",
      "Sum of the two matrices:\n",
      "4 8\n",
      "29 12\n"
     ]
    }
   ],
   "source": [
    "def add_matrices(matrix1, matrix2):\n",
    "    n = len(matrix1)\n",
    "    m = len(matrix1[0])\n",
    "    result_matrix = [[0] * m for _ in range(n)]\n",
    "    for i in range(n):\n",
    "        for j in range(m):\n",
    "            result_matrix[i][j] = matrix1[i][j] + matrix2[i][j]\n",
    "    \n",
    "    return result_matrix\n",
    "\n",
    "def input_matrix(rows, cols):\n",
    "    matrix = []\n",
    "    print(f\"Enter the elements of the matrix ({rows} x {cols}):\")\n",
    "    for i in range(rows):\n",
    "        while True:\n",
    "            try:\n",
    "                row = list(map(int, input(f\"Enter row {i + 1} elements separated by spaces: \").split()))\n",
    "                if len(row) != cols:\n",
    "                    raise ValueError(f\"Expected {cols} elements, but got {len(row)}.\")\n",
    "                matrix.append(row)\n",
    "                break\n",
    "            except ValueError as ve:\n",
    "                print(f\"Invalid input: {ve}. Please enter exactly {cols} integers separated by spaces.\")\n",
    "    return matrix\n",
    "\n",
    "def main():\n",
    "    while True:\n",
    "        try:\n",
    "            n = int(input(\"Enter the number of rows (n): \"))\n",
    "            m = int(input(\"Enter the number of columns (m): \"))\n",
    "            if n <= 0 or m <= 0:\n",
    "                raise ValueError(\"Number of rows and columns must be positive integers.\")\n",
    "            break\n",
    "        except ValueError as ve:\n",
    "            print(f\"Invalid input: {ve}. Please enter valid integers.\")\n",
    "            \n",
    "    print(\"Input first matrix:\")\n",
    "    matrix1 = input_matrix(n, m)\n",
    "    print(\"Input second matrix:\")\n",
    "    matrix2 = input_matrix(n, m)\n",
    "    result_matrix = add_matrices(matrix1, matrix2)\n",
    "    print(\"Sum of the two matrices:\")\n",
    "    for row in result_matrix:\n",
    "        print(' '.join(map(str, row)))\n",
    "\n",
    "main()"
   ]
  },
  {
   "cell_type": "markdown",
   "metadata": {},
   "source": [
    "10. Write a program to multiply two matrices"
   ]
  },
  {
   "cell_type": "code",
   "execution_count": null,
   "metadata": {},
   "outputs": [],
   "source": [
    "def multiply_matrices(matrix1, matrix2):\n",
    "    n = len(matrix1)\n",
    "    m = len(matrix2[0])\n",
    "    result_matrix = [[0] * m for _ in range(n)]\n",
    "    \n",
    "    for i in range(n):\n",
    "        for j in range(m):\n",
    "            result_matrix[i][j] = sum(matrix1[i][k] * matrix2[k][j] for k in range(len(matrix2)))\n",
    "    \n",
    "    return result_matrix\n",
    "\n",
    "def input_matrix(rows, cols):\n",
    "    matrix = []\n",
    "    print(f\"Enter the elements of the matrix ({rows} x {cols}):\")\n",
    "    for i in range(rows):\n",
    "        while True:\n",
    "            try:\n",
    "                row = list(map(int, input(f\"Enter row {i + 1} elements separated by spaces: \").split()))\n",
    "                if len(row) != cols:\n",
    "                    raise ValueError(f\"Expected {cols} elements, but got {len(row)}.\")\n",
    "                matrix.append(row)\n",
    "                break\n",
    "            except ValueError as ve:\n",
    "                print(f\"Invalid input: {ve}. Please enter exactly {cols} integers separated by spaces.\")\n",
    "    return matrix\n",
    "def main():\n",
    "    while True:\n",
    "        try:\n",
    "            n1 = int(input(\"Enter the number of rows for the first matrix: \"))\n",
    "            k1 = int(input(\"Enter the number of columns for the first matrix: \"))\n",
    "            if n1 <= 0 or k1 <= 0:\n",
    "                raise ValueError(\"Number of rows and columns must be positive integers.\")\n",
    "            break\n",
    "        except ValueError as ve:\n",
    "            print(f\"Invalid input: {ve}. Please enter valid integers.\")\n",
    "    while True:\n",
    "        try:\n",
    "            k2 = int(input(\"Enter the number of rows for the second matrix: \"))\n",
    "            m2 = int(input(\"Enter the number of columns for the second matrix: \"))\n",
    "            if k2 <= 0 or m2 <= 0:\n",
    "                raise ValueError(\"Number of rows and columns must be positive integers.\")\n",
    "            if k1 != k2:\n",
    "                raise ValueError(\"Number of columns of the first matrix must be equal to number of rows of the second matrix.\")\n",
    "            break\n",
    "        except ValueError as ve:\n",
    "            print(f\"Invalid input: {ve}. Please enter valid integers.\")\n",
    "    \n",
    "    print(\"Input first matrix:\")\n",
    "    matrix1 = input_matrix(n1, k1)\n",
    "    print(\"Input second matrix:\")\n",
    "    matrix2 = input_matrix(k2, m2)\n",
    "    result_matrix = multiply_matrices(matrix1, matrix2)\n",
    "    print(\"Product of the two matrices:\")\n",
    "    for row in result_matrix:\n",
    "        print(' '.join(map(str, row)))\n",
    "\n",
    "main()\n"
   ]
  },
  {
   "cell_type": "markdown",
   "metadata": {},
   "source": []
  }
 ],
 "metadata": {
  "kernelspec": {
   "display_name": "Python 3",
   "language": "python",
   "name": "python3"
  },
  "language_info": {
   "codemirror_mode": {
    "name": "ipython",
    "version": 3
   },
   "file_extension": ".py",
   "mimetype": "text/x-python",
   "name": "python",
   "nbconvert_exporter": "python",
   "pygments_lexer": "ipython3",
   "version": "3.12.1"
  }
 },
 "nbformat": 4,
 "nbformat_minor": 2
}
